{
  "nbformat": 4,
  "nbformat_minor": 0,
  "metadata": {
    "colab": {
      "name": "0.1.wordcount.ipynb",
      "version": "0.3.2",
      "provenance": [],
      "collapsed_sections": [],
      "include_colab_link": true
    },
    "kernelspec": {
      "name": "python3",
      "display_name": "Python 3"
    }
  },
  "cells": [
    {
      "cell_type": "markdown",
      "metadata": {
        "id": "view-in-github",
        "colab_type": "text"
      },
      "source": [
        "<a href=\"https://colab.research.google.com/github/freddyduitama/Analytics_Vidhya/blob/master/0_1_wordcount.ipynb\" target=\"_parent\"><img src=\"https://colab.research.google.com/assets/colab-badge.svg\" alt=\"Open In Colab\"/></a>"
      ]
    },
    {
      "cell_type": "markdown",
      "metadata": {
        "id": "eVSCHzjLlZd9",
        "colab_type": "text"
      },
      "source": [
        "# **Adecuacion de la plataforma**"
      ]
    },
    {
      "cell_type": "code",
      "metadata": {
        "id": "alYd_PMvWeMQ",
        "colab_type": "code",
        "colab": {}
      },
      "source": [
        "# instala el ambiente de spark..solo se corre una vez\n",
        "# en este directorio se consulta la versión activa de spark  http://apache.osuosl.org/spark/\n",
        "!apt-get install openjdk-8-jdk-headless -qq > /dev/null\n",
        "!wget -q http://apache.osuosl.org/spark/spark-2.4.3/spark-2.4.3-bin-hadoop2.7.tgz\n",
        "!tar xf spark-2.4.3-bin-hadoop2.7.tgz\n",
        "!pip install -q findspark"
      ],
      "execution_count": 0,
      "outputs": []
    },
    {
      "cell_type": "code",
      "metadata": {
        "id": "Yvz9ToTpTgEM",
        "colab_type": "code",
        "colab": {}
      },
      "source": [
        "#Configura variables de ambiente\n",
        "import os\n",
        "os.environ[\"JAVA_HOME\"] = \"/usr/lib/jvm/java-8-openjdk-amd64\"\n",
        "os.environ[\"SPARK_HOME\"] = \"/content/spark-2.4.3-bin-hadoop2.7\""
      ],
      "execution_count": 0,
      "outputs": []
    },
    {
      "cell_type": "code",
      "metadata": {
        "id": "Zz22FmAIYIvO",
        "colab_type": "code",
        "colab": {}
      },
      "source": [
        "#importa pyspark package\n",
        "import findspark\n",
        "findspark.init()\n",
        "from pyspark.sql import SparkSession\n",
        "from pyspark import SparkContext, SparkConf"
      ],
      "execution_count": 0,
      "outputs": []
    },
    {
      "cell_type": "code",
      "metadata": {
        "id": "cjngtzOcT_QR",
        "colab_type": "code",
        "colab": {}
      },
      "source": [
        "# define  la sesion SPARK. \n",
        "conf = SparkConf().setAppName(\"ejemplo\").setMaster(\"local[*]\")\n",
        "sc = SparkContext(conf=conf)"
      ],
      "execution_count": 0,
      "outputs": []
    },
    {
      "cell_type": "code",
      "metadata": {
        "id": "kGaSqRZYUAjn",
        "colab_type": "code",
        "colab": {}
      },
      "source": [
        "#Crea la sesión\n",
        "spark = SparkSession.builder.master(\"local[*]\").getOrCreate()"
      ],
      "execution_count": 0,
      "outputs": []
    },
    {
      "cell_type": "code",
      "metadata": {
        "id": "SKQSxEV1PHLF",
        "colab_type": "code",
        "colab": {
          "base_uri": "https://localhost:8080/",
          "height": 34
        },
        "outputId": "ad9fa1b8-cf5f-4ef7-8307-03eaeb52b5f1"
      },
      "source": [
        "# monta el google drive para usar sus archivos\n",
        "from google.colab import drive\n",
        "drive.mount('/gdrive', force_remount=True)"
      ],
      "execution_count": 6,
      "outputs": [
        {
          "output_type": "stream",
          "text": [
            "Mounted at /gdrive\n"
          ],
          "name": "stdout"
        }
      ]
    },
    {
      "cell_type": "code",
      "metadata": {
        "id": "nRkk8Td98b91",
        "colab_type": "code",
        "outputId": "2a5fbeac-a2a4-40ab-e939-5dd862b97793",
        "colab": {
          "base_uri": "https://localhost:8080/",
          "height": 289
        }
      },
      "source": [
        "!ls -l /gdrive/'My Drive'/'Colab Notebooks'"
      ],
      "execution_count": 7,
      "outputs": [
        {
          "output_type": "stream",
          "text": [
            "total 155\n",
            "-rw------- 1 root root 30760 Jul 29 19:50 0.1.wordcount.ipynb\n",
            "-rw------- 1 root root 48671 Jul 29 19:07 0.2.Introduction-To-Spark.ipynb\n",
            "-rw------- 1 root root 15250 Jul 16 23:15 0.3.dataframes-1.ipynb\n",
            "-rw------- 1 root root 12084 Apr 10 21:39 0.4.dataframes-2.ipynb\n",
            "-rw------- 1 root root 12031 Apr  9 03:01 0.6.LSH.ipynb\n",
            "-rw------- 1 root root  6342 May  7 03:57 0.7.PCA-SVD.ipynb\n",
            "drwx------ 2 root root  4096 Apr 12 20:00 casos-ejemplo-old\n",
            "drwx------ 2 root root  4096 Mar  6 20:16 Data\n",
            "drwx------ 2 root root  4096 Mar 16 12:40 deep-learning\n",
            "drwx------ 2 root root  4096 Apr 10 14:10 fastai-v3\n",
            "drwx------ 2 root root  4096 Apr 10 20:19 GRD\n",
            "-rw------- 1 root root   550 Mar 18 15:29 MatricesConf.cfg\n",
            "-rw------- 1 root root   542 Mar 18 15:29 MatricesConf-old.cfg\n",
            "-rw------- 1 root root  4725 Mar 12 22:33 Multiplicacion-matrices.ipynb\n",
            "drwx------ 2 root root  4096 Jul 24 00:57 re-admision\n"
          ],
          "name": "stdout"
        }
      ]
    },
    {
      "cell_type": "code",
      "metadata": {
        "id": "H64gn4-aejia",
        "colab_type": "code",
        "colab": {}
      },
      "source": [
        "#  INST A: Opcional..si quiere subir archivos al ambiente de trabajo desde su PC\n",
        "from google.colab import files\n",
        "datafile = files.upload()"
      ],
      "execution_count": 0,
      "outputs": []
    },
    {
      "cell_type": "markdown",
      "metadata": {
        "id": "usi63kydliJS",
        "colab_type": "text"
      },
      "source": [
        "# **Example 1.  Versión básica de longitud**"
      ]
    },
    {
      "cell_type": "code",
      "metadata": {
        "id": "Z62Z5D7KYcoY",
        "colab_type": "code",
        "colab": {}
      },
      "source": [
        "# OPCION 2usa la libreria basica de SPARk que lee cada entrada del RDD como una cadena de caracteres.\n",
        "lines1 = sc.textFile(\"/gdrive/My Drive/Colab Notebooks/Data/datos.txt\")"
      ],
      "execution_count": 0,
      "outputs": []
    },
    {
      "cell_type": "code",
      "metadata": {
        "id": "peW5uO0q3rIR",
        "colab_type": "code",
        "outputId": "da4a0f58-2c3b-486c-b0ef-e407187e4fbd",
        "colab": {
          "base_uri": "https://localhost:8080/",
          "height": 34
        }
      },
      "source": [
        "lines1.take(2)"
      ],
      "execution_count": 0,
      "outputs": [
        {
          "output_type": "execute_result",
          "data": {
            "text/plain": [
              "['diccionario mio', 'letras tuyas']"
            ]
          },
          "metadata": {
            "tags": []
          },
          "execution_count": 13
        }
      ]
    },
    {
      "cell_type": "code",
      "metadata": {
        "id": "rZ5yDelTZXun",
        "colab_type": "code",
        "colab": {}
      },
      "source": [
        "lineLengths = lines1.map( lambda s : len(s) ) "
      ],
      "execution_count": 0,
      "outputs": []
    },
    {
      "cell_type": "code",
      "metadata": {
        "id": "3sgCX0ZegmO7",
        "colab_type": "code",
        "colab": {}
      },
      "source": [
        "totalLength = lineLengths.reduce( lambda a, b : a + b)"
      ],
      "execution_count": 0,
      "outputs": []
    },
    {
      "cell_type": "code",
      "metadata": {
        "id": "9nMc0oXIgqwS",
        "colab_type": "code",
        "outputId": "db821cbc-cda1-47e0-d9d2-c809a1ffe0d9",
        "colab": {
          "base_uri": "https://localhost:8080/",
          "height": 34
        }
      },
      "source": [
        "print(totalLength); "
      ],
      "execution_count": 0,
      "outputs": [
        {
          "output_type": "stream",
          "text": [
            "87\n"
          ],
          "name": "stdout"
        }
      ]
    },
    {
      "cell_type": "code",
      "metadata": {
        "id": "-71qER0kVl1Z",
        "colab_type": "code",
        "outputId": "2b7a5f6f-8243-411a-a453-3b2d6fc8543e",
        "colab": {
          "base_uri": "https://localhost:8080/",
          "height": 34
        }
      },
      "source": [
        "lineLengths.take(5)"
      ],
      "execution_count": 0,
      "outputs": [
        {
          "output_type": "execute_result",
          "data": {
            "text/plain": [
              "[15, 12, 27, 12, 21]"
            ]
          },
          "metadata": {
            "tags": []
          },
          "execution_count": 18
        }
      ]
    },
    {
      "cell_type": "markdown",
      "metadata": {
        "id": "2AKKr2ealNhq",
        "colab_type": "text"
      },
      "source": [
        "# **EXAMPLE 2: Versión del word count eliminando signos de puntuación y otros caracteres**"
      ]
    },
    {
      "cell_type": "code",
      "metadata": {
        "id": "w4_hhgtPeT7c",
        "colab_type": "code",
        "colab": {}
      },
      "source": [
        "#  INST A: para subir el archivo a usar en el word count\n",
        "from google.colab import files\n",
        "datafile = files.upload()"
      ],
      "execution_count": 0,
      "outputs": []
    },
    {
      "cell_type": "code",
      "metadata": {
        "id": "-pVC6gfugtt9",
        "colab_type": "code",
        "colab": {}
      },
      "source": [
        "import re, string\n",
        "text_file = spark.read.text(\"/gdrive/My Drive/Colab Notebooks/Data/texto-con-caracteres.txt\").rdd\n",
        "punc = '!\"#$%&\\'()*+,./:;<=>?@[\\\\]^_`{|}~'"
      ],
      "execution_count": 0,
      "outputs": []
    },
    {
      "cell_type": "code",
      "metadata": {
        "id": "y8MHoRhjunw7",
        "colab_type": "code",
        "colab": {}
      },
      "source": [
        "# define función a usar en el map\n",
        "def uni_to_clean_str(x):\n",
        "    lowercased_str = x.lower()\n",
        "    lowercased_str = lowercased_str.replace('--',' ')\n",
        "    clean_str = lowercased_str.translate(punc)\n",
        "    return clean_str"
      ],
      "execution_count": 0,
      "outputs": []
    },
    {
      "cell_type": "code",
      "metadata": {
        "id": "IcGgGEZguvtk",
        "colab_type": "code",
        "colab": {}
      },
      "source": [
        "one_RDD = text_file.flatMap(lambda x: uni_to_clean_str(x.value).split())\n",
        "one_RDD = one_RDD.map(lambda x: (x,1))\n",
        "one_RDD = one_RDD.reduceByKey(lambda x,y: x + y)"
      ],
      "execution_count": 0,
      "outputs": []
    },
    {
      "cell_type": "code",
      "metadata": {
        "id": "d0obLY58YFoy",
        "colab_type": "code",
        "outputId": "2e2ce031-c079-4b43-da0f-b47b7685549f",
        "colab": {
          "base_uri": "https://localhost:8080/",
          "height": 34
        }
      },
      "source": [
        "one_RDD.take(5)"
      ],
      "execution_count": 27,
      "outputs": [
        {
          "output_type": "execute_result",
          "data": {
            "text/plain": [
              "[('pride', 28), ('and', 3370), ('prejudice', 5), ('by', 624), ('jane', 156)]"
            ]
          },
          "metadata": {
            "tags": []
          },
          "execution_count": 27
        }
      ]
    },
    {
      "cell_type": "code",
      "metadata": {
        "id": "lGCMZUryaUtj",
        "colab_type": "code",
        "colab": {}
      },
      "source": [
        "lines=spark.read.text('/gdrive/My Drive/Colab Notebooks/Data/texto-con-caracteres.txt').rdd"
      ],
      "execution_count": 0,
      "outputs": []
    },
    {
      "cell_type": "code",
      "metadata": {
        "id": "6Go11L9mb5kQ",
        "colab_type": "code",
        "outputId": "5f52e02c-b3fc-4fa0-f1a8-e9b691c76781",
        "colab": {
          "base_uri": "https://localhost:8080/",
          "height": 34
        }
      },
      "source": [
        "# muestra por qué en el map de debe usar s.value, la estructura de cada entrada del RDD es row(value='xxx')\n",
        "print(lines.take(2))"
      ],
      "execution_count": 29,
      "outputs": [
        {
          "output_type": "stream",
          "text": [
            "[Row(value='PRIDE AND PREJUDICE'), Row(value='')]\n"
          ],
          "name": "stdout"
        }
      ]
    },
    {
      "cell_type": "markdown",
      "metadata": {
        "id": "9Z55q8POLv-Y",
        "colab_type": "text"
      },
      "source": [
        "# **EXAMPLE 3: Versión básica del word count*"
      ]
    },
    {
      "cell_type": "code",
      "metadata": {
        "id": "rNeCoC2QYUFF",
        "colab_type": "code",
        "colab": {}
      },
      "source": [
        "words = sc.textFile('/gdrive/My Drive/Colab Notebooks/Data/datos.txt')\n"
      ],
      "execution_count": 0,
      "outputs": []
    },
    {
      "cell_type": "code",
      "metadata": {
        "id": "dv2t68KVTQac",
        "colab_type": "code",
        "colab": {
          "base_uri": "https://localhost:8080/",
          "height": 221
        },
        "outputId": "a59c0086-f82b-42c6-aa47-ef20bb698c82"
      },
      "source": [
        "words.take(12)"
      ],
      "execution_count": 23,
      "outputs": [
        {
          "output_type": "execute_result",
          "data": {
            "text/plain": [
              "['diccionario',\n",
              " 'mio',\n",
              " 'letras',\n",
              " 'tuyas',\n",
              " 'palabras',\n",
              " 'completas',\n",
              " 'otra',\n",
              " 'vez',\n",
              " 'Prueba',\n",
              " 'larga',\n",
              " 'Quinta',\n",
              " 'vez']"
            ]
          },
          "metadata": {
            "tags": []
          },
          "execution_count": 23
        }
      ]
    },
    {
      "cell_type": "code",
      "metadata": {
        "id": "d6ECsp4tQ4Is",
        "colab_type": "code",
        "colab": {}
      },
      "source": [
        "words1= words.flatMap(lambda line: line.split(\" \")) \\\n",
        "                         .map(lambda word: (word, 1)) \\\n",
        "                         .reduceByKey(lambda a, b: a + b)"
      ],
      "execution_count": 0,
      "outputs": []
    },
    {
      "cell_type": "code",
      "metadata": {
        "id": "XmzHiU_mNcYG",
        "colab_type": "code",
        "colab": {
          "base_uri": "https://localhost:8080/",
          "height": 34
        },
        "outputId": "400b4489-7803-427c-dab6-755dcdb602f3"
      },
      "source": [
        "words1.take(5)"
      ],
      "execution_count": 20,
      "outputs": [
        {
          "output_type": "execute_result",
          "data": {
            "text/plain": [
              "[('mio', 1), ('letras', 1), ('completas', 1), ('vez', 2), ('Prueba', 1)]"
            ]
          },
          "metadata": {
            "tags": []
          },
          "execution_count": 20
        }
      ]
    }
  ]
}